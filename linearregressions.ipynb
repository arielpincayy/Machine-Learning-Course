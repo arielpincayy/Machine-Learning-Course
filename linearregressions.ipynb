{
  "cells": [
    {
      "cell_type": "markdown",
      "metadata": {
        "id": "nFmjWA22ZRlU"
      },
      "source": [
        "**Ridge regression**"
      ]
    },
    {
      "cell_type": "markdown",
      "metadata": {
        "id": "R5CF_h79ZRla"
      },
      "source": [
        "Este modelo tiene la caracteristica de tener una pendiente muy pequeña, lo cual puede resultar beneficioso en la prediccion en modelos. (Si haces la prueba con una regresion clasica de minimos cuadrados ordinarios, la prediccion sera peor)"
      ]
    },
    {
      "cell_type": "code",
      "execution_count": null,
      "metadata": {
        "colab": {
          "base_uri": "https://localhost:8080/"
        },
        "id": "g8N8tjQOZRlu",
        "outputId": "eb98b2d3-961c-47eb-a39e-87f240f7a186"
      },
      "outputs": [
        {
          "name": "stdout",
          "output_type": "stream",
          "text": [
            "Train accuracy: 0.8857966585170941\n",
            "Test accuracy: 0.7527683481744751\n"
          ]
        },
        {
          "name": "stderr",
          "output_type": "stream",
          "text": [
            "c:\\Users\\ariel\\anaconda3\\lib\\site-packages\\sklearn\\utils\\deprecation.py:87: FutureWarning: Function load_boston is deprecated; `load_boston` is deprecated in 1.0 and will be removed in 1.2.\n",
            "\n",
            "    The Boston housing prices dataset has an ethical problem. You can refer to\n",
            "    the documentation of this function for further details.\n",
            "\n",
            "    The scikit-learn maintainers therefore strongly discourage the use of this\n",
            "    dataset unless the purpose of the code is to study and educate about\n",
            "    ethical issues in data science and machine learning.\n",
            "\n",
            "    In this special case, you can fetch the dataset from the original\n",
            "    source::\n",
            "\n",
            "        import pandas as pd\n",
            "        import numpy as np\n",
            "\n",
            "\n",
            "        data_url = \"http://lib.stat.cmu.edu/datasets/boston\"\n",
            "        raw_df = pd.read_csv(data_url, sep=\"\\s+\", skiprows=22, header=None)\n",
            "        data = np.hstack([raw_df.values[::2, :], raw_df.values[1::2, :2]])\n",
            "        target = raw_df.values[1::2, 2]\n",
            "\n",
            "    Alternative datasets include the California housing dataset (i.e.\n",
            "    :func:`~sklearn.datasets.fetch_california_housing`) and the Ames housing\n",
            "    dataset. You can load the datasets as follows::\n",
            "\n",
            "        from sklearn.datasets import fetch_california_housing\n",
            "        housing = fetch_california_housing()\n",
            "\n",
            "    for the California housing dataset and::\n",
            "\n",
            "        from sklearn.datasets import fetch_openml\n",
            "        housing = fetch_openml(name=\"house_prices\", as_frame=True)\n",
            "\n",
            "    for the Ames housing dataset.\n",
            "    \n",
            "  warnings.warn(msg, category=FutureWarning)\n"
          ]
        }
      ],
      "source": [
        "from sklearn.linear_model import Ridge\n",
        "from sklearn.model_selection import train_test_split\n",
        "import mglearn\n",
        "import pandas as pd\n",
        "import numpy as np\n",
        "import matplotlib.pyplot as plt\n",
        "\n",
        "X, y = mglearn.datasets.load_extended_boston()\n",
        "X_train, X_test, y_train, y_test = train_test_split(X, y, random_state=0)\n",
        "ridge = Ridge().fit(X_train , y_train)\n",
        "print(\"Train accuracy: {}\".format(ridge.score(X_train,y_train)))\n",
        "print(\"Test accuracy: {}\".format(ridge.score(X_test,y_test)))"
      ]
    },
    {
      "cell_type": "markdown",
      "metadata": {
        "id": "AQ5Xm8I_ZRly"
      },
      "source": [
        "Se puede modificar al parametro alpha para cambiar al comportamiento de la regresión. Como valor por defecto, apha es igual a 1.0, pero si se este es aumentado la pendiente se acerca mas al cero y por el contrario si decrece, se aleja de este comportandose mas como una regresion lineal por minimos cuadaros ordinarios."
      ]
    },
    {
      "cell_type": "code",
      "execution_count": null,
      "metadata": {
        "colab": {
          "base_uri": "https://localhost:8080/"
        },
        "id": "8Z9NPk4nZRlz",
        "outputId": "fdf838eb-f869-4c8e-8da8-3397bccff5ec"
      },
      "outputs": [
        {
          "name": "stdout",
          "output_type": "stream",
          "text": [
            "Training set score: 0.79\n",
            "Test set score: 0.64\n"
          ]
        }
      ],
      "source": [
        "ridge10 = Ridge(alpha=10).fit(X_train, y_train)\n",
        "print(\"Training set score: {:.2f}\".format(ridge10.score(X_train, y_train)))\n",
        "print(\"Test set score: {:.2f}\".format(ridge10.score(X_test, y_test)))"
      ]
    },
    {
      "cell_type": "markdown",
      "metadata": {
        "id": "LvgoKCTlZRlz"
      },
      "source": [
        "Al aumentar alpha, la regresión se vuelve mas restrictiva, perdiendo generalidad (Es mas propensa a producir un overfitting)"
      ]
    },
    {
      "cell_type": "code",
      "execution_count": null,
      "metadata": {
        "colab": {
          "base_uri": "https://localhost:8080/"
        },
        "id": "n7nPXbnQZRl0",
        "outputId": "4c6f0064-dabd-4f9c-816d-6b4994189a76"
      },
      "outputs": [
        {
          "name": "stdout",
          "output_type": "stream",
          "text": [
            "Training set score: 0.93\n",
            "Test set score: 0.77\n"
          ]
        }
      ],
      "source": [
        "ridge01 = Ridge(alpha=0.1).fit(X_train, y_train)\n",
        "print(\"Training set score: {:.2f}\".format(ridge01.score(X_train, y_train)))\n",
        "print(\"Test set score: {:.2f}\".format(ridge01.score(X_test, y_test)))"
      ]
    },
    {
      "cell_type": "markdown",
      "metadata": {
        "id": "gYdPLXTJZRl0"
      },
      "source": [
        "Al reducir el parametro alpha, la regresion tiende, en cambio, a ser menos restrictiva (Es mas propensa a un underfitting)"
      ]
    },
    {
      "cell_type": "markdown",
      "metadata": {
        "id": "Q6jJvdhSZRl1"
      },
      "source": [
        "**Lasso Regression**"
      ]
    },
    {
      "cell_type": "markdown",
      "metadata": {
        "id": "HzUJqjPGZRl1"
      },
      "source": [
        "Esta regresión es similar a la regresion Ridge puesto que tambien hace acercar sus coeficientes a 0, con la particularidad de algunos si llegan a tener el valor 0 haciéndo que se eliminen. Esta regresión reduce el número de features, encontrando features sin relevancia"
      ]
    },
    {
      "cell_type": "code",
      "execution_count": null,
      "metadata": {
        "colab": {
          "base_uri": "https://localhost:8080/"
        },
        "id": "aYW1eRwSZRl2",
        "outputId": "dc5ec59e-9b96-44b7-b9bf-15da586c63f4"
      },
      "outputs": [
        {
          "name": "stdout",
          "output_type": "stream",
          "text": [
            "Training set score: 0.29\n",
            "Test set score: 0.21\n",
            "Number of features used: 4\n"
          ]
        }
      ],
      "source": [
        "from sklearn.linear_model import Lasso\n",
        "lasso = Lasso().fit(X_train, y_train)\n",
        "print(\"Training set score: {:.2f}\".format(lasso.score(X_train, y_train)))\n",
        "print(\"Test set score: {:.2f}\".format(lasso.score(X_test, y_test)))\n",
        "print(\"Number of features used: {}\".format(np.sum(lasso.coef_ != 0)))"
      ]
    },
    {
      "cell_type": "markdown",
      "metadata": {
        "id": "LpubO-cgZRl2"
      },
      "source": [
        "Como se puede notar, el modelo resulta ser muy poco restrictivo para este caso, causando un underfitting, sin embargo se pueden solucionar reduciendo el parametro alpha, pero al hacer esto se debe aumentar el número máximo de iteraciones max_iter"
      ]
    },
    {
      "cell_type": "code",
      "execution_count": null,
      "metadata": {
        "colab": {
          "base_uri": "https://localhost:8080/"
        },
        "id": "k06NO6zKZRl3",
        "outputId": "9c3f3912-0ed9-455d-dfc8-da8dbe5c97b9"
      },
      "outputs": [
        {
          "name": "stdout",
          "output_type": "stream",
          "text": [
            "Training set score: 0.90\n",
            "Test set score: 0.77\n",
            "Number of features used: 33\n"
          ]
        }
      ],
      "source": [
        "# we increase the default setting of \"max_iter\",\n",
        "# otherwise the model would warn us that we should increase max_iter.\n",
        "lasso001 = Lasso(alpha=0.01, max_iter=100000).fit(X_train, y_train)\n",
        "print(\"Training set score: {:.2f}\".format(lasso001.score(X_train, y_train)))\n",
        "print(\"Test set score: {:.2f}\".format(lasso001.score(X_test, y_test)))\n",
        "print(\"Number of features used: {}\".format(np.sum(lasso001.coef_ != 0)))"
      ]
    },
    {
      "cell_type": "markdown",
      "metadata": {
        "id": "g4044MblZRl3"
      },
      "source": [
        "Si se reduce mucho el aplha puede llegar a un overfitting"
      ]
    },
    {
      "cell_type": "code",
      "execution_count": null,
      "metadata": {
        "colab": {
          "base_uri": "https://localhost:8080/"
        },
        "id": "DftvSZ_1ZRl4",
        "outputId": "bf6a0ade-91cb-4d41-817e-12fcbf4be777"
      },
      "outputs": [
        {
          "name": "stdout",
          "output_type": "stream",
          "text": [
            "Training set score: 0.95\n",
            "Test set score: 0.64\n",
            "Number of features used: 96\n"
          ]
        }
      ],
      "source": [
        "lasso00001 = Lasso(alpha=0.0001, max_iter=100000).fit(X_train, y_train)\n",
        "print(\"Training set score: {:.2f}\".format(lasso00001.score(X_train, y_train)))\n",
        "print(\"Test set score: {:.2f}\".format(lasso00001.score(X_test, y_test)))\n",
        "print(\"Number of features used: {}\".format(np.sum(lasso00001.coef_ != 0)))"
      ]
    },
    {
      "cell_type": "markdown",
      "metadata": {
        "id": "hwmtvYGI_YEN"
      },
      "source": [
        "# **Modelos lineales de clasificación**"
      ]
    },
    {
      "cell_type": "markdown",
      "metadata": {
        "id": "Qxlym4ZD_opJ"
      },
      "source": [
        "**SVM y Logitic regression**"
      ]
    },
    {
      "cell_type": "markdown",
      "metadata": {
        "id": "NWkeD6QxAJhm"
      },
      "source": [
        "Ambos modelos actúan usando L2 Regularization (Ridge regression). Por esto cuentan con un parámetro **c** que actúa de la misma forma que el parámetro _alpha_"
      ]
    },
    {
      "cell_type": "code",
      "execution_count": null,
      "metadata": {
        "colab": {
          "base_uri": "https://localhost:8080/",
          "height": 381
        },
        "id": "prQbQRh5ADe9",
        "outputId": "432020ec-d768-43a6-dc0a-201635c68956"
      },
      "outputs": [
        {
          "name": "stderr",
          "output_type": "stream",
          "text": [
            "c:\\Users\\ariel\\anaconda3\\lib\\site-packages\\sklearn\\svm\\_base.py:1206: ConvergenceWarning: Liblinear failed to converge, increase the number of iterations.\n",
            "  warnings.warn(\n"
          ]
        },
        {
          "data": {
            "text/plain": [
              "<matplotlib.legend.Legend at 0x20efca94730>"
            ]
          },
          "execution_count": 7,
          "metadata": {},
          "output_type": "execute_result"
        },
        {
          "data": {
            "image/png": "[encoded data removed]",
            "text/plain": [
              "<Figure size 1000x300 with 2 Axes>"
            ]
          },
          "metadata": {},
          "output_type": "display_data"
        }
      ],
      "source": [
        "from sklearn.linear_model import LogisticRegression\n",
        "from sklearn.svm import LinearSVC\n",
        "X, y = mglearn.datasets.make_forge()\n",
        "fig, axes = plt.subplots(1, 2, figsize=(10, 3))\n",
        "for model, ax in zip([LinearSVC(), LogisticRegression()], axes):\n",
        " clf = model.fit(X, y)\n",
        " mglearn.plots.plot_2d_separator(clf, X, fill=False, eps=0.5,\n",
        " ax=ax, alpha=.7)\n",
        " mglearn.discrete_scatter(X[:, 0], X[:, 1], y, ax=ax)\n",
        " ax.set_title(\"{}\".format(clf.__class__.__name__))\n",
        " ax.set_xlabel(\"Feature 0\")\n",
        " ax.set_ylabel(\"Feature 1\")\n",
        "axes[0].legend()\n"
      ]
    },
    {
      "cell_type": "code",
      "execution_count": null,
      "metadata": {
        "colab": {
          "base_uri": "https://localhost:8080/"
        },
        "id": "FdXwypccGlWD",
        "outputId": "b8b469a1-6011-4cf9-feee-0c47fd54e135"
      },
      "outputs": [
        {
          "name": "stdout",
          "output_type": "stream",
          "text": [
            "Training set score: 0.948\n",
            "Test set score: 0.958\n"
          ]
        },
        {
          "name": "stderr",
          "output_type": "stream",
          "text": [
            "c:\\Users\\ariel\\anaconda3\\lib\\site-packages\\sklearn\\linear_model\\_logistic.py:814: ConvergenceWarning: lbfgs failed to converge (status=1):\n",
            "STOP: TOTAL NO. of ITERATIONS REACHED LIMIT.\n",
            "\n",
            "Increase the number of iterations (max_iter) or scale the data as shown in:\n",
            "    https://scikit-learn.org/stable/modules/preprocessing.html\n",
            "Please also refer to the documentation for alternative solver options:\n",
            "    https://scikit-learn.org/stable/modules/linear_model.html#logistic-regression\n",
            "  n_iter_i = _check_optimize_result(\n"
          ]
        }
      ],
      "source": [
        "from sklearn.datasets import load_breast_cancer\n",
        "cancer = load_breast_cancer()\n",
        "X_train, X_test, y_train, y_test = train_test_split(\n",
        " cancer.data, cancer.target, stratify=cancer.target, random_state=42)\n",
        "logreg = LogisticRegression().fit(X_train, y_train)\n",
        "print(\"Training set score: {:.3f}\".format(logreg.score(X_train, y_train)))\n",
        "print(\"Test set score: {:.3f}\".format(logreg.score(X_test, y_test)))"
      ]
    },
    {
      "cell_type": "markdown",
      "metadata": {
        "id": "DIbLdjPimBGs"
      },
      "source": [
        "# **Notas de estudiante**"
      ]
    },
    {
      "cell_type": "markdown",
      "metadata": {
        "id": "A-ZOh__TmBGs"
      },
      "source": [
        "**Usando logistic regfression**"
      ]
    },
    {
      "cell_type": "code",
      "execution_count": null,
      "metadata": {
        "id": "ixgs-y76mBGs",
        "outputId": "acab3a6e-b224-4683-f094-89bf845d7996"
      },
      "outputs": [
        {
          "name": "stdout",
          "output_type": "stream",
          "text": [
            "     Study Hours  Previous Exam Score  Pass/Fail\n",
            "0       4.370861            81.889703          0\n",
            "1       9.556429            72.165782          1\n",
            "2       7.587945            58.571657          0\n",
            "3       6.387926            88.827701          1\n",
            "4       2.404168            81.083870          0\n",
            "..           ...                  ...        ...\n",
            "495     4.180170            45.494924          0\n",
            "496     6.252905            95.038815          1\n",
            "497     1.699612            48.209118          0\n",
            "498     9.769553            97.014241          1\n",
            "499     9.875897            66.760346          1\n",
            "\n",
            "[500 rows x 3 columns]\n"
          ]
        }
      ],
      "source": [
        "route = 'data/student_exam_data.csv'\n",
        "\n",
        "data = pd.read_csv(route)\n",
        "print(data)"
      ]
    },
    {
      "cell_type": "code",
      "execution_count": null,
      "metadata": {
        "id": "Xnljt79pmBGt",
        "outputId": "3a6bd012-391e-4aa4-cfbb-5403fcad6af0"
      },
      "outputs": [
        {
          "name": "stdout",
          "output_type": "stream",
          "text": [
            "Training set score: 0.868\n",
            "Test set score: 0.860\n"
          ]
        }
      ],
      "source": [
        "x = data[['Study Hours','Previous Exam Score']]\n",
        "y = np.ravel(data[['Pass/Fail']])\n",
        "X_train, X_test, y_train, y_test = train_test_split(x,y,test_size=0.2,random_state=31)\n",
        "logreg = LogisticRegression(C=100).fit(X_train, y_train)\n",
        "print(\"Training set score: {:.3f}\".format(logreg.score(X_train, y_train)))\n",
        "print(\"Test set score: {:.3f}\".format(logreg.score(X_test, y_test)))"
      ]
    },
    {
      "cell_type": "code",
      "execution_count": null,
      "metadata": {
        "id": "VMCJK768mBGu"
      },
      "outputs": [],
      "source": [
        "y_trainScore = []\n",
        "y_testScore = []\n",
        "for e in np.arange(0.1,100,0.1):\n",
        "    l1 = LogisticRegression(C=e).fit(X_train,y_train)\n",
        "    y_trainScore.append(l1.score(X_train,y_train))\n",
        "    l2 = LogisticRegression(C=e).fit(X_test,y_test)\n",
        "    y_testScore.append(l2.score(X_test,y_test))\n",
        "\n",
        "y_trainScore = np.array(y_trainScore)\n",
        "y_testScore = np.array(y_testScore)\n",
        "\n"
      ]
    },
    {
      "cell_type": "code",
      "execution_count": null,
      "metadata": {
        "id": "4mDXrYdrmBGu",
        "outputId": "cc360e26-97cb-4cfa-8c05-ccdb89698157"
      },
      "outputs": [
        {
          "data": {
            "image/png": "[encoded data removed]",
            "text/plain": [
              "<Figure size 640x480 with 1 Axes>"
            ]
          },
          "metadata": {},
          "output_type": "display_data"
        }
      ],
      "source": [
        "import matplotlib.pyplot as plt\n",
        "\n",
        "X_trainScore = np.arange(999)\n",
        "\n",
        "plt.plot(X_trainScore,y_trainScore,ls=\"--\",c='g',label='Train')\n",
        "plt.plot(X_trainScore,y_testScore,c='r',label='Test')\n",
        "plt.xlabel('Valor de C')\n",
        "plt.ylabel('Presición')\n",
        "plt.legend()\n",
        "plt.show()"
      ]
    }
  ],
  "metadata": {
    "colab": {
      "provenance": []
    },
    "kernelspec": {
      "display_name": "base",
      "language": "python",
      "name": "python3"
    },
    "language_info": {
      "codemirror_mode": {
        "name": "ipython",
        "version": 3
      },
      "file_extension": ".py",
      "mimetype": "text/x-python",
      "name": "python",
      "nbconvert_exporter": "python",
      "pygments_lexer": "ipython3",
      "version": "3.9.13"
    }
  },
  "nbformat": 4,
  "nbformat_minor": 0
}