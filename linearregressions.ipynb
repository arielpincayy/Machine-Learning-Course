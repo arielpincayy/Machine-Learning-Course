{
  "cells": [
    {
      "cell_type": "markdown",
      "metadata": {
        "id": "view-in-github",
        "colab_type": "text"
      },
      "source": [
        "<a href=\"https://colab.research.google.com/github/arielpincayy/Machine-Learning-Course/blob/main/linearregressions.ipynb\" target=\"_parent\"><img src=\"https://colab.research.google.com/assets/colab-badge.svg\" alt=\"Open In Colab\"/></a>"
      ]
    },
    {
      "cell_type": "markdown",
      "metadata": {
        "id": "nFmjWA22ZRlU"
      },
      "source": [
        "**Ridge regression**"
      ]
    },
    {
      "cell_type": "code",
      "source": [
        "!pip install mglearn"
      ],
      "metadata": {
        "colab": {
          "base_uri": "https://localhost:8080/"
        },
        "id": "wqzeADQCo-9X",
        "outputId": "caa821ed-e128-4ac7-fe62-2447b85e8d47"
      },
      "execution_count": 12,
      "outputs": [
        {
          "output_type": "stream",
          "name": "stdout",
          "text": [
            "Requirement already satisfied: mglearn in /usr/local/lib/python3.10/dist-packages (0.2.0)\n",
            "Requirement already satisfied: numpy in /usr/local/lib/python3.10/dist-packages (from mglearn) (1.23.5)\n",
            "Requirement already satisfied: matplotlib in /usr/local/lib/python3.10/dist-packages (from mglearn) (3.7.1)\n",
            "Requirement already satisfied: scikit-learn in /usr/local/lib/python3.10/dist-packages (from mglearn) (1.2.2)\n",
            "Requirement already satisfied: pandas in /usr/local/lib/python3.10/dist-packages (from mglearn) (1.5.3)\n",
            "Requirement already satisfied: pillow in /usr/local/lib/python3.10/dist-packages (from mglearn) (9.4.0)\n",
            "Requirement already satisfied: cycler in /usr/local/lib/python3.10/dist-packages (from mglearn) (0.12.1)\n",
            "Requirement already satisfied: imageio in /usr/local/lib/python3.10/dist-packages (from mglearn) (2.31.6)\n",
            "Requirement already satisfied: joblib in /usr/local/lib/python3.10/dist-packages (from mglearn) (1.3.2)\n",
            "Requirement already satisfied: contourpy>=1.0.1 in /usr/local/lib/python3.10/dist-packages (from matplotlib->mglearn) (1.2.0)\n",
            "Requirement already satisfied: fonttools>=4.22.0 in /usr/local/lib/python3.10/dist-packages (from matplotlib->mglearn) (4.47.2)\n",
            "Requirement already satisfied: kiwisolver>=1.0.1 in /usr/local/lib/python3.10/dist-packages (from matplotlib->mglearn) (1.4.5)\n",
            "Requirement already satisfied: packaging>=20.0 in /usr/local/lib/python3.10/dist-packages (from matplotlib->mglearn) (23.2)\n",
            "Requirement already satisfied: pyparsing>=2.3.1 in /usr/local/lib/python3.10/dist-packages (from matplotlib->mglearn) (3.1.1)\n",
            "Requirement already satisfied: python-dateutil>=2.7 in /usr/local/lib/python3.10/dist-packages (from matplotlib->mglearn) (2.8.2)\n",
            "Requirement already satisfied: pytz>=2020.1 in /usr/local/lib/python3.10/dist-packages (from pandas->mglearn) (2023.3.post1)\n",
            "Requirement already satisfied: scipy>=1.3.2 in /usr/local/lib/python3.10/dist-packages (from scikit-learn->mglearn) (1.11.4)\n",
            "Requirement already satisfied: threadpoolctl>=2.0.0 in /usr/local/lib/python3.10/dist-packages (from scikit-learn->mglearn) (3.2.0)\n",
            "Requirement already satisfied: six>=1.5 in /usr/local/lib/python3.10/dist-packages (from python-dateutil>=2.7->matplotlib->mglearn) (1.16.0)\n"
          ]
        }
      ]
    },
    {
      "cell_type": "markdown",
      "metadata": {
        "id": "R5CF_h79ZRla"
      },
      "source": [
        "Este modelo tiene la caracteristica de tener una pendiente muy pequeña, lo cual puede resultar beneficioso en la prediccion en modelos. (Si haces la prueba con una regresion clasica de minimos cuadrados ordinarios, la prediccion sera peor)"
      ]
    },
    {
      "cell_type": "code",
      "execution_count": 13,
      "metadata": {
        "colab": {
          "base_uri": "https://localhost:8080/"
        },
        "id": "g8N8tjQOZRlu",
        "outputId": "0f75701c-c1a6-4dae-b9ea-9115ff1f10c4"
      },
      "outputs": [
        {
          "output_type": "stream",
          "name": "stdout",
          "text": [
            "Train accuracy: 0.8857966585170941\n",
            "Test accuracy: 0.7527683481744752\n"
          ]
        }
      ],
      "source": [
        "from sklearn.linear_model import Ridge\n",
        "from sklearn.model_selection import train_test_split\n",
        "import mglearn\n",
        "import pandas as pd\n",
        "import numpy as np\n",
        "import matplotlib.pyplot as plt\n",
        "\n",
        "X, y = mglearn.datasets.load_extended_boston()\n",
        "X_train, X_test, y_train, y_test = train_test_split(X, y, random_state=0)\n",
        "ridge = Ridge().fit(X_train , y_train)\n",
        "print(\"Train accuracy: {}\".format(ridge.score(X_train,y_train)))\n",
        "print(\"Test accuracy: {}\".format(ridge.score(X_test,y_test)))"
      ]
    },
    {
      "cell_type": "markdown",
      "metadata": {
        "id": "AQ5Xm8I_ZRly"
      },
      "source": [
        "Se puede modificar al parametro alpha para cambiar al comportamiento de la regresión. Como valor por defecto, apha es igual a 1.0, pero si se este es aumentado la pendiente se acerca mas al cero y por el contrario si decrece, se aleja de este comportandose mas como una regresion lineal por minimos cuadaros ordinarios."
      ]
    },
    {
      "cell_type": "code",
      "execution_count": 14,
      "metadata": {
        "colab": {
          "base_uri": "https://localhost:8080/"
        },
        "id": "8Z9NPk4nZRlz",
        "outputId": "b491b4e9-937b-4eca-f83e-50e224e2a94f"
      },
      "outputs": [
        {
          "output_type": "stream",
          "name": "stdout",
          "text": [
            "Training set score: 0.79\n",
            "Test set score: 0.64\n"
          ]
        }
      ],
      "source": [
        "ridge10 = Ridge(alpha=10).fit(X_train, y_train)\n",
        "print(\"Training set score: {:.2f}\".format(ridge10.score(X_train, y_train)))\n",
        "print(\"Test set score: {:.2f}\".format(ridge10.score(X_test, y_test)))"
      ]
    },
    {
      "cell_type": "markdown",
      "metadata": {
        "id": "LvgoKCTlZRlz"
      },
      "source": [
        "Al aumentar alpha, la regresión se vuelve mas restrictiva, perdiendo generalidad (Es mas propensa a producir un overfitting)"
      ]
    },
    {
      "cell_type": "code",
      "execution_count": 15,
      "metadata": {
        "colab": {
          "base_uri": "https://localhost:8080/"
        },
        "id": "n7nPXbnQZRl0",
        "outputId": "0a5b90a7-55a4-4c2b-b4f5-66fa2a980ad3"
      },
      "outputs": [
        {
          "output_type": "stream",
          "name": "stdout",
          "text": [
            "Training set score: 0.93\n",
            "Test set score: 0.77\n"
          ]
        }
      ],
      "source": [
        "ridge01 = Ridge(alpha=0.1).fit(X_train, y_train)\n",
        "print(\"Training set score: {:.2f}\".format(ridge01.score(X_train, y_train)))\n",
        "print(\"Test set score: {:.2f}\".format(ridge01.score(X_test, y_test)))"
      ]
    },
    {
      "cell_type": "markdown",
      "metadata": {
        "id": "gYdPLXTJZRl0"
      },
      "source": [
        "Al reducir el parametro alpha, la regresion tiende, en cambio, a ser menos restrictiva (Es mas propensa a un underfitting)"
      ]
    },
    {
      "cell_type": "markdown",
      "metadata": {
        "id": "Q6jJvdhSZRl1"
      },
      "source": [
        "**Lasso Regression**"
      ]
    },
    {
      "cell_type": "markdown",
      "metadata": {
        "id": "HzUJqjPGZRl1"
      },
      "source": [
        "Esta regresión es similar a la regresion Ridge puesto que tambien hace acercar sus coeficientes a 0, con la particularidad de algunos si llegan a tener el valor 0 haciéndo que se eliminen. Esta regresión reduce el número de features, encontrando features sin relevancia"
      ]
    },
    {
      "cell_type": "code",
      "execution_count": 16,
      "metadata": {
        "colab": {
          "base_uri": "https://localhost:8080/"
        },
        "id": "aYW1eRwSZRl2",
        "outputId": "d782e87e-fbe8-4d1d-e8e4-57c8922c2e29"
      },
      "outputs": [
        {
          "output_type": "stream",
          "name": "stdout",
          "text": [
            "Training set score: 0.29\n",
            "Test set score: 0.21\n",
            "Number of features used: 4\n"
          ]
        }
      ],
      "source": [
        "from sklearn.linear_model import Lasso\n",
        "lasso = Lasso().fit(X_train, y_train)\n",
        "print(\"Training set score: {:.2f}\".format(lasso.score(X_train, y_train)))\n",
        "print(\"Test set score: {:.2f}\".format(lasso.score(X_test, y_test)))\n",
        "print(\"Number of features used: {}\".format(np.sum(lasso.coef_ != 0)))"
      ]
    },
    {
      "cell_type": "markdown",
      "metadata": {
        "id": "LpubO-cgZRl2"
      },
      "source": [
        "Como se puede notar, el modelo resulta ser muy poco restrictivo para este caso, causando un underfitting, sin embargo se pueden solucionar reduciendo el parametro alpha, pero al hacer esto se debe aumentar el número máximo de iteraciones max_iter"
      ]
    },
    {
      "cell_type": "code",
      "execution_count": 17,
      "metadata": {
        "colab": {
          "base_uri": "https://localhost:8080/"
        },
        "id": "k06NO6zKZRl3",
        "outputId": "a4ea0fa3-0f33-4158-a644-f4cbf0b1092d"
      },
      "outputs": [
        {
          "output_type": "stream",
          "name": "stdout",
          "text": [
            "Training set score: 0.90\n",
            "Test set score: 0.77\n",
            "Number of features used: 33\n"
          ]
        }
      ],
      "source": [
        "# we increase the default setting of \"max_iter\",\n",
        "# otherwise the model would warn us that we should increase max_iter.\n",
        "lasso001 = Lasso(alpha=0.01, max_iter=100000).fit(X_train, y_train)\n",
        "print(\"Training set score: {:.2f}\".format(lasso001.score(X_train, y_train)))\n",
        "print(\"Test set score: {:.2f}\".format(lasso001.score(X_test, y_test)))\n",
        "print(\"Number of features used: {}\".format(np.sum(lasso001.coef_ != 0)))"
      ]
    },
    {
      "cell_type": "markdown",
      "metadata": {
        "id": "g4044MblZRl3"
      },
      "source": [
        "Si se reduce mucho el aplha puede llegar a un overfitting"
      ]
    },
    {
      "cell_type": "code",
      "execution_count": 18,
      "metadata": {
        "colab": {
          "base_uri": "https://localhost:8080/"
        },
        "id": "DftvSZ_1ZRl4",
        "outputId": "22c0e1d7-973d-493b-bc4d-b0f2707eb6a2"
      },
      "outputs": [
        {
          "output_type": "stream",
          "name": "stdout",
          "text": [
            "Training set score: 0.95\n",
            "Test set score: 0.64\n",
            "Number of features used: 96\n"
          ]
        }
      ],
      "source": [
        "lasso00001 = Lasso(alpha=0.0001, max_iter=100000).fit(X_train, y_train)\n",
        "print(\"Training set score: {:.2f}\".format(lasso00001.score(X_train, y_train)))\n",
        "print(\"Test set score: {:.2f}\".format(lasso00001.score(X_test, y_test)))\n",
        "print(\"Number of features used: {}\".format(np.sum(lasso00001.coef_ != 0)))"
      ]
    },
    {
      "cell_type": "markdown",
      "metadata": {
        "id": "hwmtvYGI_YEN"
      },
      "source": [
        "# **Modelos lineales de clasificación**"
      ]
    },
    {
      "cell_type": "markdown",
      "metadata": {
        "id": "Qxlym4ZD_opJ"
      },
      "source": [
        "**SVM y Logitic regression**"
      ]
    },
    {
      "cell_type": "markdown",
      "metadata": {
        "id": "NWkeD6QxAJhm"
      },
      "source": [
        "Ambos modelos actúan usando L2 Regularization (Ridge regression). Por esto cuentan con un parámetro **c** que actúa de la misma forma que el parámetro _alpha_"
      ]
    },
    {
      "cell_type": "code",
      "execution_count": 19,
      "metadata": {
        "colab": {
          "base_uri": "https://localhost:8080/",
          "height": 381
        },
        "id": "prQbQRh5ADe9",
        "outputId": "f88dcc65-6ad9-467a-a577-ef424507f737"
      },
      "outputs": [
        {
          "output_type": "stream",
          "name": "stderr",
          "text": [
            "/usr/local/lib/python3.10/dist-packages/sklearn/svm/_base.py:1244: ConvergenceWarning: Liblinear failed to converge, increase the number of iterations.\n",
            "  warnings.warn(\n"
          ]
        },
        {
          "output_type": "execute_result",
          "data": {
            "text/plain": [
              "<matplotlib.legend.Legend at 0x7eb45efb6470>"
            ]
          },
          "metadata": {},
          "execution_count": 19
        },
        {
          "output_type": "display_data",
          "data": {
            "text/plain": [
              "<Figure size 1000x300 with 2 Axes>"
            ],
            "image/png": "[encoded data removed]"
          },
          "metadata": {}
        }
      ],
      "source": [
        "from sklearn.linear_model import LogisticRegression\n",
        "from sklearn.svm import LinearSVC\n",
        "X, y = mglearn.datasets.make_forge()\n",
        "fig, axes = plt.subplots(1, 2, figsize=(10, 3))\n",
        "for model, ax in zip([LinearSVC(), LogisticRegression()], axes):\n",
        " clf = model.fit(X, y)\n",
        " mglearn.plots.plot_2d_separator(clf, X, fill=False, eps=0.5,\n",
        " ax=ax, alpha=.7)\n",
        " mglearn.discrete_scatter(X[:, 0], X[:, 1], y, ax=ax)\n",
        " ax.set_title(\"{}\".format(clf.__class__.__name__))\n",
        " ax.set_xlabel(\"Feature 0\")\n",
        " ax.set_ylabel(\"Feature 1\")\n",
        "axes[0].legend()\n"
      ]
    },
    {
      "cell_type": "code",
      "execution_count": 20,
      "metadata": {
        "colab": {
          "base_uri": "https://localhost:8080/"
        },
        "id": "FdXwypccGlWD",
        "outputId": "40262798-556e-4f63-a954-1ac22e03ebdf"
      },
      "outputs": [
        {
          "output_type": "stream",
          "name": "stdout",
          "text": [
            "Training set score: 0.946\n",
            "Test set score: 0.958\n"
          ]
        },
        {
          "output_type": "stream",
          "name": "stderr",
          "text": [
            "/usr/local/lib/python3.10/dist-packages/sklearn/linear_model/_logistic.py:458: ConvergenceWarning: lbfgs failed to converge (status=1):\n",
            "STOP: TOTAL NO. of ITERATIONS REACHED LIMIT.\n",
            "\n",
            "Increase the number of iterations (max_iter) or scale the data as shown in:\n",
            "    https://scikit-learn.org/stable/modules/preprocessing.html\n",
            "Please also refer to the documentation for alternative solver options:\n",
            "    https://scikit-learn.org/stable/modules/linear_model.html#logistic-regression\n",
            "  n_iter_i = _check_optimize_result(\n"
          ]
        }
      ],
      "source": [
        "from sklearn.datasets import load_breast_cancer\n",
        "cancer = load_breast_cancer()\n",
        "X_train, X_test, y_train, y_test = train_test_split(\n",
        " cancer.data, cancer.target, stratify=cancer.target, random_state=42)\n",
        "logreg = LogisticRegression().fit(X_train, y_train)\n",
        "print(\"Training set score: {:.3f}\".format(logreg.score(X_train, y_train)))\n",
        "print(\"Test set score: {:.3f}\".format(logreg.score(X_test, y_test)))"
      ]
    },
    {
      "cell_type": "markdown",
      "metadata": {
        "id": "DIbLdjPimBGs"
      },
      "source": [
        "# **Notas de estudiante**"
      ]
    },
    {
      "cell_type": "markdown",
      "metadata": {
        "id": "A-ZOh__TmBGs"
      },
      "source": [
        "**Usando logistic regfression**"
      ]
    },
    {
      "cell_type": "code",
      "execution_count": 23,
      "metadata": {
        "colab": {
          "base_uri": "https://localhost:8080/"
        },
        "id": "ixgs-y76mBGs",
        "outputId": "a6e094fe-fd08-4149-ceeb-0d69008232db"
      },
      "outputs": [
        {
          "output_type": "stream",
          "name": "stdout",
          "text": [
            "     Study Hours  Previous Exam Score  Pass/Fail\n",
            "0       4.370861            81.889703          0\n",
            "1       9.556429            72.165782          1\n",
            "2       7.587945            58.571657          0\n",
            "3       6.387926            88.827701          1\n",
            "4       2.404168            81.083870          0\n",
            "..           ...                  ...        ...\n",
            "495     4.180170            45.494924          0\n",
            "496     6.252905            95.038815          1\n",
            "497     1.699612            48.209118          0\n",
            "498     9.769553            97.014241          1\n",
            "499     9.875897            66.760346          1\n",
            "\n",
            "[500 rows x 3 columns]\n"
          ]
        }
      ],
      "source": [
        "route = 'sample_data/student_exam_data.csv'\n",
        "\n",
        "data = pd.read_csv(route)\n",
        "print(data)"
      ]
    },
    {
      "cell_type": "code",
      "execution_count": 24,
      "metadata": {
        "colab": {
          "base_uri": "https://localhost:8080/"
        },
        "id": "Xnljt79pmBGt",
        "outputId": "f9690bad-6265-4a23-a5ef-c95a708c230b"
      },
      "outputs": [
        {
          "output_type": "stream",
          "name": "stdout",
          "text": [
            "Training set score: 0.868\n",
            "Test set score: 0.860\n"
          ]
        }
      ],
      "source": [
        "x = data[['Study Hours','Previous Exam Score']]\n",
        "y = np.ravel(data[['Pass/Fail']])\n",
        "X_train, X_test, y_train, y_test = train_test_split(x,y,test_size=0.2,random_state=31)\n",
        "logreg = LogisticRegression(C=100).fit(X_train, y_train)\n",
        "print(\"Training set score: {:.3f}\".format(logreg.score(X_train, y_train)))\n",
        "print(\"Test set score: {:.3f}\".format(logreg.score(X_test, y_test)))"
      ]
    },
    {
      "cell_type": "code",
      "execution_count": 25,
      "metadata": {
        "id": "VMCJK768mBGu"
      },
      "outputs": [],
      "source": [
        "y_trainScore = []\n",
        "y_testScore = []\n",
        "for e in np.arange(0.1,100,0.1):\n",
        "    l1 = LogisticRegression(C=e).fit(X_train,y_train)\n",
        "    y_trainScore.append(l1.score(X_train,y_train))\n",
        "    l2 = LogisticRegression(C=e).fit(X_test,y_test)\n",
        "    y_testScore.append(l2.score(X_test,y_test))\n",
        "\n",
        "y_trainScore = np.array(y_trainScore)\n",
        "y_testScore = np.array(y_testScore)\n",
        "\n"
      ]
    },
    {
      "cell_type": "code",
      "execution_count": 26,
      "metadata": {
        "colab": {
          "base_uri": "https://localhost:8080/",
          "height": 449
        },
        "id": "4mDXrYdrmBGu",
        "outputId": "4d7e8fb3-105a-4fe3-e1d9-2550d6485f6b"
      },
      "outputs": [
        {
          "output_type": "display_data",
          "data": {
            "text/plain": [
              "<Figure size 640x480 with 1 Axes>"
            ],
            "image/png": "[encoded data removed]"
          },
          "metadata": {}
        }
      ],
      "source": [
        "import matplotlib.pyplot as plt\n",
        "\n",
        "X_trainScore = np.arange(999)\n",
        "\n",
        "plt.plot(X_trainScore,y_trainScore,ls=\"--\",c='g',label='Train')\n",
        "plt.plot(X_trainScore,y_testScore,c='r',label='Test')\n",
        "plt.xlabel('Valor de C')\n",
        "plt.ylabel('Presición')\n",
        "plt.legend()\n",
        "plt.show()"
      ]
    },
    {
      "cell_type": "code",
      "source": [
        "example = pd.DataFrame([[9.356520,89.546523]],columns=['Study Hours','Previous Exam Score'])\n",
        "predict = logreg.predict(example)\n",
        "proba = logreg.predict_proba(example)\n",
        "logProba = logreg.predict_log_proba(example)\n",
        "\n",
        "print(f'Predicción:{predict}\\nProbabilidad:{proba}\\nProbabilidad logarítmica:{logProba}')"
      ],
      "metadata": {
        "colab": {
          "base_uri": "https://localhost:8080/"
        },
        "id": "XHE8ObpYpytJ",
        "outputId": "50007777-6338-4f90-a555-bffdafb10dc7"
      },
      "execution_count": 33,
      "outputs": [
        {
          "output_type": "stream",
          "name": "stdout",
          "text": [
            "Predicción:[1]\n",
            "Probabilidad:[[0.00333059 0.99666941]]\n",
            "Probabilidad logarítmica:[[-5.70460542e+00 -3.33615009e-03]]\n"
          ]
        }
      ]
    }
  ],
  "metadata": {
    "colab": {
      "provenance": [],
      "include_colab_link": true
    },
    "kernelspec": {
      "display_name": "base",
      "language": "python",
      "name": "python3"
    },
    "language_info": {
      "codemirror_mode": {
        "name": "ipython",
        "version": 3
      },
      "file_extension": ".py",
      "mimetype": "text/x-python",
      "name": "python",
      "nbconvert_exporter": "python",
      "pygments_lexer": "ipython3",
      "version": "3.9.13"
    }
  },
  "nbformat": 4,
  "nbformat_minor": 0
}